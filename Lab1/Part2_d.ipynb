{
 "cells": [
  {
   "cell_type": "code",
   "execution_count": 1,
   "id": "57094d7d",
   "metadata": {},
   "outputs": [
    {
     "name": "stdout",
     "output_type": "stream",
     "text": [
      "\"Expected Output: Undefined behavior\"\n",
      "0\n",
      "\"Expected Output: Undefined behavior\"\n",
      "360\n"
     ]
    }
   ],
   "source": [
    "!g++ Part2_d.cpp -o Part2_d\n",
    "!echo \"Expected Output: Undefined behavior\"\n",
    "!echo 0 | Part2_d.exe\n",
    "\n",
    "!echo \"Expected Output: Undefined behavior\"\n",
    "!echo 180 | Part2_d.exe"
   ]
  }
 ],
 "metadata": {
  "kernelspec": {
   "display_name": "base",
   "language": "python",
   "name": "python3"
  },
  "language_info": {
   "codemirror_mode": {
    "name": "ipython",
    "version": 3
   },
   "file_extension": ".py",
   "mimetype": "text/x-python",
   "name": "python",
   "nbconvert_exporter": "python",
   "pygments_lexer": "ipython3",
   "version": "3.13.5"
  }
 },
 "nbformat": 4,
 "nbformat_minor": 5
}
