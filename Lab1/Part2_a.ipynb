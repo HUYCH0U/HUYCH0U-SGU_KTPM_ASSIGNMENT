{
 "cells": [
  {
   "cell_type": "code",
   "execution_count": 1,
   "id": "4497d8af",
   "metadata": {},
   "outputs": [
    {
     "name": "stdout",
     "output_type": "stream",
     "text": [
      "\"Expected Output: -10\"\n",
      "-10\n",
      "\"Expected Output: 22\"\n",
      "22\n"
     ]
    }
   ],
   "source": [
    "!g++ Part2_a.cpp -o Part2_a\n",
    "!echo \"Expected Output: -10\"\n",
    "!echo 10 | Part2_a.exe\n",
    "\n",
    "!echo \"Expected Output: 22\"\n",
    "!echo 11 | Part2_a.exe"
   ]
  }
 ],
 "metadata": {
  "kernelspec": {
   "display_name": "base",
   "language": "python",
   "name": "python3"
  },
  "language_info": {
   "codemirror_mode": {
    "name": "ipython",
    "version": 3
   },
   "file_extension": ".py",
   "mimetype": "text/x-python",
   "name": "python",
   "nbconvert_exporter": "python",
   "pygments_lexer": "ipython3",
   "version": "3.13.5"
  }
 },
 "nbformat": 4,
 "nbformat_minor": 5
}
