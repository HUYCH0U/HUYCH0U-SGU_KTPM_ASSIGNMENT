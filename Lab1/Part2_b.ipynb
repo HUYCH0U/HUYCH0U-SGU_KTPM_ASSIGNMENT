{
 "cells": [
  {
   "cell_type": "code",
   "execution_count": 1,
   "id": "00f923f6",
   "metadata": {},
   "outputs": [
    {
     "name": "stdout",
     "output_type": "stream",
     "text": [
      "\"Expected Output: 22\"\n",
      "22\n",
      "\"Expected Output: -5\"\n",
      "-5\n",
      "\"Expected Output: -8\"\n",
      "-8\n"
     ]
    }
   ],
   "source": [
    "!g++ Part2_b.cpp -o Part2_b\n",
    "!echo \"Expected Output: 22\"\n",
    "!echo 11 | Part2_b.exe\n",
    "\n",
    "!echo \"Expected Output: -5\"\n",
    "!echo 5 | Part2_b.exe\n",
    "\n",
    "!echo \"Expected Output: -8\"\n",
    "!echo -4 | Part2_b.exe"
   ]
  }
 ],
 "metadata": {
  "kernelspec": {
   "display_name": "base",
   "language": "python",
   "name": "python3"
  },
  "language_info": {
   "codemirror_mode": {
    "name": "ipython",
    "version": 3
   },
   "file_extension": ".py",
   "mimetype": "text/x-python",
   "name": "python",
   "nbconvert_exporter": "python",
   "pygments_lexer": "ipython3",
   "version": "3.13.5"
  }
 },
 "nbformat": 4,
 "nbformat_minor": 5
}
