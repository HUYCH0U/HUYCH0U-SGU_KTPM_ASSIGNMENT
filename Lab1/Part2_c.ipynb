{
 "cells": [
  {
   "cell_type": "code",
   "execution_count": null,
   "id": "1656e272",
   "metadata": {},
   "outputs": [
    {
     "name": "stdout",
     "output_type": "stream",
     "text": [
      "\"Expected Output: 16\"\n",
      "16\n",
      "\"Expected Output: 5\"\n",
      "-10\n",
      "\"Expected Output: 44\"\n",
      "44\n"
     ]
    }
   ],
   "source": [
    "!g++ Part2_c.cpp -o Part2_c\n",
    "!echo \"Expected Output: 16\"\n",
    "!echo 8 | Part2_c.exe\n",
    "\n",
    "!echo \"Expected Output: 5\"\n",
    "!echo -5 | Part2_c.exe\n",
    "\n",
    "!echo \"Expected Output: 44\"\n",
    "!echo 22 | Part2_c.exe"
   ]
  }
 ],
 "metadata": {
  "kernelspec": {
   "display_name": "base",
   "language": "python",
   "name": "python3"
  },
  "language_info": {
   "codemirror_mode": {
    "name": "ipython",
    "version": 3
   },
   "file_extension": ".py",
   "mimetype": "text/x-python",
   "name": "python",
   "nbconvert_exporter": "python",
   "pygments_lexer": "ipython3",
   "version": "3.13.5"
  }
 },
 "nbformat": 4,
 "nbformat_minor": 5
}
