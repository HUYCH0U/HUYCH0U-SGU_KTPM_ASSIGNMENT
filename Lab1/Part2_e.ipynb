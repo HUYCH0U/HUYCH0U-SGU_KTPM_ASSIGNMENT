{
 "cells": [
  {
   "cell_type": "code",
   "execution_count": 1,
   "id": "903064c8",
   "metadata": {},
   "outputs": [
    {
     "name": "stdout",
     "output_type": "stream",
     "text": [
      "\"Expected Output: 3\"\n",
      "3\n",
      "\"Expected Output: 3\"\n",
      "3\n",
      "\"Expected Output: 3\"\n",
      "3\n",
      "\"Expected Output: 2\"\n",
      "0\n",
      "\"Expected Output: 2\"\n",
      "2\n",
      "\"Expected Output: 2\"\n",
      "0\n",
      "\"Expected Output: 2\"\n",
      "0\n",
      "\"Expected Output: 2\"\n",
      "0\n",
      "\"Expected Output: -2\"\n",
      "0\n"
     ]
    }
   ],
   "source": [
    "!g++ Part2_e.cpp -o Part2_e\n",
    "!echo \"Expected Output: 3\"\n",
    "!echo 1 2 3 | Part2_e.exe\n",
    "!echo \"Expected Output: 3\"\n",
    "!echo 3 2 1 | Part2_e.exe\n",
    "!echo \"Expected Output: 3\"\n",
    "!echo 1 3 2 | Part2_e.exe\n",
    "!echo \"Expected Output: 2\"\n",
    "!echo 1 2 2 | Part2_e.exe\n",
    "!echo \"Expected Output: 2\"\n",
    "!echo 2 1 1 | Part2_e.exe\n",
    "!echo \"Expected Output: 2\"\n",
    "!echo 2 2 1 | Part2_e.exe\n",
    "!echo \"Expected Output: 2\"\n",
    "!echo 2 1 2 | Part2_e.exe\n",
    "!echo \"Expected Output: 2\"\n",
    "!echo 2 2 2 | Part2_e.exe\n",
    "!echo \"Expected Output: -2\"\n",
    "!echo -2 -2 -2 | Part2_e.exe"
   ]
  }
 ],
 "metadata": {
  "kernelspec": {
   "display_name": "base",
   "language": "python",
   "name": "python3"
  },
  "language_info": {
   "codemirror_mode": {
    "name": "ipython",
    "version": 3
   },
   "file_extension": ".py",
   "mimetype": "text/x-python",
   "name": "python",
   "nbconvert_exporter": "python",
   "pygments_lexer": "ipython3",
   "version": "3.13.5"
  }
 },
 "nbformat": 4,
 "nbformat_minor": 5
}
