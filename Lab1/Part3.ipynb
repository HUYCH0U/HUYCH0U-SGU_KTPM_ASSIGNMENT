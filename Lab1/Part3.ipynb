{
 "cells": [
  {
   "cell_type": "code",
   "execution_count": 3,
   "id": "a0ebc5ba",
   "metadata": {},
   "outputs": [
    {
     "name": "stdout",
     "output_type": "stream",
     "text": [
      "Test Case 1:\n",
      "Input: 0 0 0\n",
      "Expected Output: Infinite solutions.\n",
      "Actual Output: Infinite solutions.\n",
      "Result: CORRECT\n",
      "\n",
      "Test Case 2:\n",
      "Input: 0 0 1\n",
      "Expected Output: No solution.\n",
      "Actual Output: No solution.\n",
      "Result: CORRECT\n",
      "\n",
      "Test Case 3:\n",
      "Input: 0 1 1\n",
      "Expected Output: No solution.\n",
      "Actual Output: No solution.\n",
      "Result: CORRECT\n",
      "\n",
      "Test Case 4:\n",
      "Input: 0 1 -4\n",
      "Expected Output: The equation has 2 real solution(s): 2 -2 \n",
      "Actual Output: The equation has 2 real solution(s): 2 -2 \n",
      "Result: CORRECT\n",
      "\n",
      "Test Case 5:\n",
      "Input: 1 2 2\n",
      "Expected Output: No solution.\n",
      "Actual Output: No solution.\n",
      "Result: CORRECT\n",
      "\n",
      "Test Case 6:\n",
      "Input: 1 -2 1\n",
      "Expected Output: The equation has 2 real solution(s): 1 -1 \n",
      "Actual Output: The equation has 2 real solution(s): 1 -1 \n",
      "Result: CORRECT\n",
      "\n",
      "Test Case 7:\n",
      "Input: 1 -5 6\n",
      "Expected Output: The equation has 4 real solution(s): 2 -2 1.41421 -1.41421 \n",
      "Actual Output: The equation has 4 real solution(s): 1.73205 -1.73205 1.41421 -1.41421 \n",
      "Result: INCORRECT\n",
      "\n",
      "Test Case 8:\n",
      "Input: 1 0 0\n",
      "Expected Output: The equation has 2 real solution(s): 0 0 \n",
      "Actual Output: The equation has 2 real solution(s): 0 -0 \n",
      "Result: INCORRECT\n",
      "\n"
     ]
    }
   ],
   "source": [
    "!g++ Part3test.cpp -o Part3test\n",
    "!echo | Part3test.exe"
   ]
  }
 ],
 "metadata": {
  "kernelspec": {
   "display_name": "base",
   "language": "python",
   "name": "python3"
  },
  "language_info": {
   "codemirror_mode": {
    "name": "ipython",
    "version": 3
   },
   "file_extension": ".py",
   "mimetype": "text/x-python",
   "name": "python",
   "nbconvert_exporter": "python",
   "pygments_lexer": "ipython3",
   "version": "3.13.5"
  }
 },
 "nbformat": 4,
 "nbformat_minor": 5
}
